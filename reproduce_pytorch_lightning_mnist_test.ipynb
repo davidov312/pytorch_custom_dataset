{
 "cells": [
  {
   "cell_type": "code",
   "execution_count": 1,
   "metadata": {},
   "outputs": [
    {
     "name": "stderr",
     "output_type": "stream",
     "text": [
      "c:\\Users\\david\\miniconda3\\envs\\pytorch_env\\lib\\site-packages\\tqdm\\auto.py:22: TqdmWarning: IProgress not found. Please update jupyter and ipywidgets. See https://ipywidgets.readthedocs.io/en/stable/user_install.html\n",
      "  from .autonotebook import tqdm as notebook_tqdm\n",
      "Global seed set to 0\n",
      "Global seed set to 0\n"
     ]
    },
    {
     "name": "stdout",
     "output_type": "stream",
     "text": [
      "Calculated validation accuracy: 0.9850000143051147\n",
      "Calculated test accuracy: 0.9740999937057495\n"
     ]
    }
   ],
   "source": [
    "import torch\n",
    "\n",
    "from mnist_pytorch_lightning import MNISTDataModule, LitMNIST\n",
    "import os\n",
    "from torchmetrics import Accuracy\n",
    "from pytorch_lightning import seed_everything\n",
    "\n",
    "seed_everything(0, workers=True) # seeds for torch, numpy, random\n",
    "\n",
    "params = {}\n",
    "params['data_path'] = \".\"\n",
    "params['AVAIL_GPUS'] = min(0, torch.cuda.device_count())\n",
    "params['batch_size'] = 64\n",
    "params['max_epoch'] = 50\n",
    "params['lr'] = 2e-4\n",
    "\n",
    "mnist_data_module = MNISTDataModule(params)\n",
    "mnist_data_module.setup(stage = \"fit\")\n",
    "mnist_data_module.setup(stage = \"test\")\n",
    "\n",
    "results_dir = 'lightning_logs/version_16'\n",
    "ckpt_path = os.listdir(os.path.join(results_dir, 'checkpoints'))\n",
    "ckpt = torch.load(os.path.join(results_dir, 'checkpoints', ckpt_path[0]))\n",
    "\n",
    "network = LitMNIST.load_from_checkpoint(params=params, checkpoint_path = os.path.join(results_dir, 'checkpoints', ckpt_path[0]))\n",
    "\n",
    "def calc_accuracy(dataloader, network):\n",
    "    network.eval()\n",
    "    y_epoch, out_epoch, pred_epoch = [], [], []\n",
    "    acc = Accuracy()\n",
    "    with torch.no_grad():\n",
    "        for (x,y) in dataloader:\n",
    "            out = network(x)\n",
    "            y_epoch.append(y)\n",
    "            out_epoch.append(out)\n",
    "            pred = out.max(1, keepdim=True)[1] # get the index of the max log-probability\n",
    "            pred_epoch.append(pred)\n",
    "            acc.update(pred.view(-1), y.view(-1).int())\n",
    "    y_epoch = torch.concat(y_epoch)\n",
    "    out_epoch = torch.concat(out_epoch)\n",
    "    pred_epoch = torch.concat(pred_epoch)\n",
    "    \n",
    "    accuracy = pred_epoch.eq(y_epoch.view_as(pred_epoch)).sum().item() / y_epoch.shape[0]\n",
    "    assert abs(float(acc.compute()) - accuracy) < 0.001\n",
    "    return float(acc.compute()),  pred_epoch, y_epoch\n",
    "val_acc, _, _ = calc_accuracy(mnist_data_module.val_dataloader(), network)\n",
    "test_acc, pred_epoch, y_epoch = calc_accuracy(mnist_data_module.test_dataloader(), network)\n",
    "\n",
    "print(\"Calculated validation accuracy:\",  val_acc)\n",
    "print(\"Calculated test accuracy:\",  test_acc)\n"
   ]
  }
 ],
 "metadata": {
  "kernelspec": {
   "display_name": "Python 3.10.5 ('pytorch_env')",
   "language": "python",
   "name": "python3"
  },
  "language_info": {
   "codemirror_mode": {
    "name": "ipython",
    "version": 3
   },
   "file_extension": ".py",
   "mimetype": "text/x-python",
   "name": "python",
   "nbconvert_exporter": "python",
   "pygments_lexer": "ipython3",
   "version": "3.10.5"
  },
  "orig_nbformat": 4,
  "vscode": {
   "interpreter": {
    "hash": "0224e6aa67fca1137d219e55411078f00dd749736efee3277977db4ec178a63a"
   }
  }
 },
 "nbformat": 4,
 "nbformat_minor": 2
}
